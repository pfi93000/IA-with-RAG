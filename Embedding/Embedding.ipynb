{
 "cells": [
  {
   "cell_type": "markdown",
   "id": "3f5e65c6",
   "metadata": {},
   "source": [
    "# Utilisation d'un RAG et suivi dans MLflow"
   ]
  },
  {
   "cell_type": "markdown",
   "id": "21024c7e",
   "metadata": {},
   "source": [
    "# Activation de MLflow"
   ]
  },
  {
   "cell_type": "code",
   "execution_count": null,
   "id": "bcac6144",
   "metadata": {},
   "outputs": [],
   "source": [
    "import mlflow\n",
    "mlflow.set_tracking_uri(\"http://mlflow-serveur:8080/\")\n",
    "mlflow.set_experiment(\"embedding\")\n",
    "mlflow.autolog()"
   ]
  },
  {
   "cell_type": "markdown",
   "id": "b0b9e7d7",
   "metadata": {},
   "source": [
    "## Les documents"
   ]
  },
  {
   "cell_type": "code",
   "execution_count": 1,
   "id": "1e0f417b-7f3d-4bb6-b4e4-685ed713d043",
   "metadata": {},
   "outputs": [],
   "source": [
    "documents = [\n",
    "    \"Baguette is a dish.\",\n",
    "    \"Paris is the capital of France.\",\n",
    "    \"numpy is a lib for linear algebra\",\n",
    "    \"You escaped what I've escaped - You'd be in Paris getting fucked up too\",\n",
    "]"
   ]
  },
  {
   "cell_type": "markdown",
   "id": "2144ecb2",
   "metadata": {},
   "source": [
    "## Embedding des documents et stockage du résultat en mémoire (dans une variable)"
   ]
  },
  {
   "cell_type": "code",
   "execution_count": null,
   "id": "63371b70",
   "metadata": {},
   "outputs": [],
   "source": [
    "from langchain_community.embeddings import InfinityEmbeddings, InfinityEmbeddingsLocal\n",
    "#\n",
    "infinity_api_url = \"http://embedding:7997/\"\n",
    "model = \"intfloat/multilingual-e5-base\"\n",
    "# model is currently not validated.\n",
    "embeddings = InfinityEmbeddings(\n",
    "    model=model, infinity_api_url=infinity_api_url\n",
    ")\n",
    "try:\n",
    "    documents_embedded = embeddings.embed_documents(documents)\n",
    "    print(\"embeddings created successful\")\n",
    "except Exception as ex:\n",
    "    print(\n",
    "        \"Make sure the infinity instance is running. Verify by clicking on \"\n",
    "        f\"{infinity_api_url.replace('v1','docs')} Exception: {ex}. \"\n",
    "    )\n"
   ]
  },
  {
   "cell_type": "markdown",
   "id": "387921d2",
   "metadata": {},
   "source": [
    "## Calcul de la similarité entre une question et les documents"
   ]
  },
  {
   "cell_type": "code",
   "execution_count": null,
   "id": "33ecd173",
   "metadata": {},
   "outputs": [],
   "source": [
    "# (demo) compute similarity\n",
    "import numpy as np\n",
    "import base64\n",
    "\n",
    "with mlflow.start_run():\n",
    "    query = \"Where is Paris?\"\n",
    "    query_result = embeddings.embed_query(query)\n",
    "\n",
    "    scores = np.array(documents_embedded) @ np.array(query_result).T\n",
    "    print(dict(zip(documents, scores)))\n",
    "\n",
    "    mlflow.log_param(\"query\", query)\n",
    "    mlflow.log_param(\"model\", model)\n",
    "    for doc in dict(zip(documents, scores)):\n",
    "        print(doc)\n",
    "        print(dict(zip(documents, scores))[doc])\n",
    "        mlflow.log_metric(\"document \" + \"\".join(x for x in doc if x.isalnum() or x ==\" \"), dict(zip(documents, scores))[doc])"
   ]
  }
 ],
 "metadata": {
  "kernelspec": {
   "display_name": "Python 3 (ipykernel)",
   "language": "python",
   "name": "python3"
  },
  "language_info": {
   "codemirror_mode": {
    "name": "ipython",
    "version": 3
   },
   "file_extension": ".py",
   "mimetype": "text/x-python",
   "name": "python",
   "nbconvert_exporter": "python",
   "pygments_lexer": "ipython3",
   "version": "3.12.1"
  }
 },
 "nbformat": 4,
 "nbformat_minor": 5
}
